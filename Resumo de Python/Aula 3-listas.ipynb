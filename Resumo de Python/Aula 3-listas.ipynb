{
 "cells": [
  {
   "cell_type": "markdown",
   "id": "24627df1",
   "metadata": {},
   "source": [
    "# Listas e suas necessidades\n"
   ]
  },
  {
   "cell_type": "code",
   "execution_count": 2,
   "id": "111286c0",
   "metadata": {},
   "outputs": [
    {
     "name": "stdout",
     "output_type": "stream",
     "text": [
      "60\n"
     ]
    }
   ],
   "source": [
    "def main():\n",
    "    num1=10;\n",
    "    num2=11;\n",
    "    num3=12;\n",
    "    num4=13;\n",
    "    num5=14;\n",
    "    soma = num1 + num2 + num3 + num4 + num5;\n",
    "    print(soma)\n",
    "main()"
   ]
  },
  {
   "cell_type": "markdown",
   "id": "3f6b3537",
   "metadata": {},
   "source": [
    "Trabalhar vom vários valores relacionados em um só variável"
   ]
  },
  {
   "cell_type": "code",
   "execution_count": 9,
   "id": "5e299093",
   "metadata": {},
   "outputs": [
    {
     "name": "stdout",
     "output_type": "stream",
     "text": [
      "['João', 'Lucas', 'Miguel', 'Heitor']\n",
      "['João', 'Samuel', 'Miguel', 'Heitor']\n",
      "['João', 'Samuel', 'Miguel', 'Heitor', 'Bento']\n"
     ]
    }
   ],
   "source": [
    "def main():\n",
    "    primeira_lista = [\"João\",\"Lucas\",\"Miguel\",\"Heitor\"];\n",
    "    print(primeira_lista);\n",
    "    primeira_lista[1]=\"Samuel\";\n",
    "    print(primeira_lista);\n",
    "    primeira_lista.append(\"Bento\");\n",
    "    print(primeira_lista)\n",
    "main();    "
   ]
  },
  {
   "cell_type": "markdown",
   "id": "2b884b1a",
   "metadata": {},
   "source": [
    "# metodos alternativos\n"
   ]
  },
  {
   "cell_type": "code",
   "execution_count": 10,
   "id": "095adbab",
   "metadata": {},
   "outputs": [],
   "source": [
    "lista=[1,2,3,4]\n",
    "lista2 = ['a','b','c']\n",
    "lista3 = ['a','b',2,3]\n",
    "lista_alunos = []"
   ]
  },
  {
   "cell_type": "code",
   "execution_count": 13,
   "id": "f5a10383",
   "metadata": {},
   "outputs": [
    {
     "name": "stdout",
     "output_type": "stream",
     "text": [
      "[1, 2, 3]\n"
     ]
    }
   ],
   "source": [
    "lista_novo = list();\n",
    "lista_novo=list([1,2,3])\n",
    "print(lista_novo)"
   ]
  },
  {
   "cell_type": "markdown",
   "id": "f9e0812d",
   "metadata": {},
   "source": [
    " # Copiano uma lista para outra\n",
    " lista b, passa a referenciar a lista a, então, uma alteraçãona b altera a(vice-versa)"
   ]
  },
  {
   "cell_type": "code",
   "execution_count": 14,
   "id": "68380826",
   "metadata": {},
   "outputs": [
    {
     "name": "stdout",
     "output_type": "stream",
     "text": [
      "[1, 2, 3, 4]\n",
      "[1, 2, 3, 4]\n"
     ]
    }
   ],
   "source": [
    "lista_a = [1,2,3]\n",
    "lista_b = lista_a;\n",
    "lista_b.append(4);\n",
    "print(lista_a);\n",
    "print(lista_b);"
   ]
  },
  {
   "cell_type": "markdown",
   "id": "d26bc272",
   "metadata": {},
   "source": [
    "clonar uma lista(passar os valores dela) para outra"
   ]
  },
  {
   "cell_type": "code",
   "execution_count": 32,
   "id": "fefe9e65",
   "metadata": {},
   "outputs": [
    {
     "name": "stdout",
     "output_type": "stream",
     "text": [
      "[1, 2, 3]\n",
      "[1, 2, 3, 4]\n",
      "[2, 3]\n"
     ]
    }
   ],
   "source": [
    "lista_a = [1,2,3]\n",
    "lista_b = lista_a[:];\n",
    "lista_c = lista_a[1:3];# primeiro inclusivo e segundo exclusivo\n",
    "lista_b.append(4);\n",
    "print(lista_a);\n",
    "print(lista_b);\n",
    "print(lista_c);"
   ]
  },
  {
   "cell_type": "markdown",
   "id": "b2b0edda",
   "metadata": {},
   "source": [
    "# Funções da listas"
   ]
  },
  {
   "cell_type": "code",
   "execution_count": 35,
   "id": "ab0afb43",
   "metadata": {},
   "outputs": [
    {
     "name": "stdout",
     "output_type": "stream",
     "text": [
      "[1, 2, 3, 10, 9]\n"
     ]
    }
   ],
   "source": [
    "lista = [1,2,3]\n",
    "lista1 = [10,9]\n",
    "lista2 = lista + lista1\n",
    "print(lista2)"
   ]
  },
  {
   "cell_type": "markdown",
   "id": "760b055f",
   "metadata": {},
   "source": [
    "# Funções nativas\n"
   ]
  },
  {
   "cell_type": "code",
   "execution_count": 36,
   "id": "c324dbf9",
   "metadata": {},
   "outputs": [
    {
     "name": "stdout",
     "output_type": "stream",
     "text": [
      "[1, 2]\n"
     ]
    }
   ],
   "source": [
    "numeros = [1];\n",
    "numeros.append(2);\n",
    "print(numeros)"
   ]
  },
  {
   "cell_type": "code",
   "execution_count": 37,
   "id": "e6649e08",
   "metadata": {},
   "outputs": [
    {
     "name": "stdout",
     "output_type": "stream",
     "text": [
      "1\n"
     ]
    }
   ],
   "source": [
    "letras = ['a','b','c'];\n",
    "i_letras = letras.index('b');\n",
    "\n",
    "print(i_letras)"
   ]
  },
  {
   "cell_type": "markdown",
   "id": "c96f6b38",
   "metadata": {},
   "source": [
    "inserir um elemento na lista em um determinada posicão"
   ]
  },
  {
   "cell_type": "code",
   "execution_count": 38,
   "id": "be2a70fb",
   "metadata": {},
   "outputs": [
    {
     "name": "stdout",
     "output_type": "stream",
     "text": [
      "[11, 12, 13]\n"
     ]
    }
   ],
   "source": [
    "num = [11,13]\n",
    "num.insert(1,12)\n",
    "print(num)"
   ]
  },
  {
   "cell_type": "code",
   "execution_count": 40,
   "id": "396bd141",
   "metadata": {},
   "outputs": [
    {
     "data": {
      "text/plain": [
       "True"
      ]
     },
     "execution_count": 40,
     "metadata": {},
     "output_type": "execute_result"
    }
   ],
   "source": [
    "12 in num"
   ]
  },
  {
   "cell_type": "code",
   "execution_count": 41,
   "id": "10288352",
   "metadata": {},
   "outputs": [
    {
     "name": "stdout",
     "output_type": "stream",
     "text": [
      "[11, 12, 13]\n",
      "[11, 13]\n"
     ]
    }
   ],
   "source": [
    "num2= [11,13]\n",
    "num2.insert(1,12)\n",
    "print(num2)\n",
    "num2.remove(12)\n",
    "print(num2)"
   ]
  },
  {
   "cell_type": "code",
   "execution_count": 42,
   "id": "9ffabf49",
   "metadata": {},
   "outputs": [
    {
     "name": "stdout",
     "output_type": "stream",
     "text": [
      "['leite']\n"
     ]
    }
   ],
   "source": [
    "palavra = [\"ovo\",\"leite\"]\n",
    "palavra.pop(0)\n",
    "print(palavra)"
   ]
  },
  {
   "cell_type": "code",
   "execution_count": 43,
   "id": "aede7e52",
   "metadata": {},
   "outputs": [
    {
     "name": "stdout",
     "output_type": "stream",
     "text": [
      "['leite']\n"
     ]
    }
   ],
   "source": [
    "palavras = [\"ovo\",\"leite\"]\n",
    "del(palavras[0])\n",
    "print(palavras)\n",
    "#remove o elemento"
   ]
  },
  {
   "cell_type": "code",
   "execution_count": 45,
   "id": "cd1537f4",
   "metadata": {},
   "outputs": [
    {
     "name": "stdout",
     "output_type": "stream",
     "text": [
      "[5, 98, 65]\n",
      "[5, 65, 98]\n"
     ]
    }
   ],
   "source": [
    "listinha = [5,98,65]\n",
    "print(listinha)\n",
    "listinha.sort();\n",
    "print(listinha)"
   ]
  },
  {
   "cell_type": "code",
   "execution_count": 47,
   "id": "6692f413",
   "metadata": {},
   "outputs": [
    {
     "name": "stdout",
     "output_type": "stream",
     "text": [
      "[5, 65, 98]\n"
     ]
    }
   ],
   "source": [
    "print(sorted(listinha))"
   ]
  },
  {
   "cell_type": "markdown",
   "id": "3c93911b",
   "metadata": {},
   "source": [
    "# Manipulação de String"
   ]
  },
  {
   "cell_type": "code",
   "execution_count": 58,
   "id": "f87a31d8",
   "metadata": {},
   "outputs": [
    {
     "name": "stdout",
     "output_type": "stream",
     "text": [
      "o\n",
      "z\n"
     ]
    }
   ],
   "source": [
    "palavra=\"ovoz\"\n",
    "print(palavra[0])\n",
    "print(palavra[-1])"
   ]
  },
  {
   "cell_type": "code",
   "execution_count": 59,
   "id": "6c8759b1",
   "metadata": {},
   "outputs": [
    {
     "name": "stdout",
     "output_type": "stream",
     "text": [
      "ovosz\n"
     ]
    }
   ],
   "source": [
    "nova_palavra =palavra[:3] + 's' +palavra[3:]\n",
    "print(nova_palavra)"
   ]
  },
  {
   "cell_type": "code",
   "execution_count": 61,
   "id": "faeab05c",
   "metadata": {},
   "outputs": [
    {
     "data": {
      "text/plain": [
       "False"
      ]
     },
     "execution_count": 61,
     "metadata": {},
     "output_type": "execute_result"
    }
   ],
   "source": [
    "'o'  not in 'ovo'"
   ]
  },
  {
   "cell_type": "code",
   "execution_count": 63,
   "id": "582debbc",
   "metadata": {},
   "outputs": [
    {
     "name": "stdout",
     "output_type": "stream",
     "text": [
      "zero\n"
     ]
    }
   ],
   "source": [
    "string= \"ze\" + \"ro\"\n",
    "print(string)\n",
    " "
   ]
  },
  {
   "cell_type": "code",
   "execution_count": 70,
   "id": "a4d821f8",
   "metadata": {},
   "outputs": [
    {
     "data": {
      "text/plain": [
       "'YILO'"
      ]
     },
     "execution_count": 70,
     "metadata": {},
     "output_type": "execute_result"
    }
   ],
   "source": [
    "string = \"Jo\".lower() + \"Po\".lower()\n",
    "string\n",
    "string= \"yilo\".upper()\n",
    "string\n"
   ]
  },
  {
   "cell_type": "code",
   "execution_count": 71,
   "id": "ced11245",
   "metadata": {},
   "outputs": [
    {
     "name": "stdout",
     "output_type": "stream",
     "text": [
      "4\n"
     ]
    }
   ],
   "source": [
    "print(len(string))"
   ]
  },
  {
   "cell_type": "code",
   "execution_count": 72,
   "id": "1ebc4e90",
   "metadata": {},
   "outputs": [
    {
     "name": "stdout",
     "output_type": "stream",
     "text": [
      "True\n"
     ]
    }
   ],
   "source": [
    "print(\"abc\".isalpha())"
   ]
  },
  {
   "cell_type": "code",
   "execution_count": 75,
   "id": "46f64267",
   "metadata": {},
   "outputs": [
    {
     "data": {
      "text/plain": [
       "'sobrando espacos'"
      ]
     },
     "execution_count": 75,
     "metadata": {},
     "output_type": "execute_result"
    }
   ],
   "source": [
    "a=\"sobrando espacos  \".strip();\n",
    "a"
   ]
  },
  {
   "cell_type": "code",
   "execution_count": 76,
   "id": "bd78518d",
   "metadata": {},
   "outputs": [
    {
     "data": {
      "text/plain": [
       "'a,b,c'"
      ]
     },
     "execution_count": 76,
     "metadata": {},
     "output_type": "execute_result"
    }
   ],
   "source": [
    "b=\",\".join(\"abc\")\n",
    "b\n"
   ]
  },
  {
   "cell_type": "code",
   "execution_count": 81,
   "id": "1d10daa8",
   "metadata": {},
   "outputs": [
    {
     "data": {
      "text/plain": [
       "['n,o,m,e']"
      ]
     },
     "execution_count": 81,
     "metadata": {},
     "output_type": "execute_result"
    }
   ],
   "source": [
    "s=\"n,o,m,e\"\n",
    "s.split(\",\")"
   ]
  },
  {
   "cell_type": "code",
   "execution_count": null,
   "id": "9857b069",
   "metadata": {},
   "outputs": [],
   "source": []
  }
 ],
 "metadata": {
  "kernelspec": {
   "display_name": "Python 3 (ipykernel)",
   "language": "python",
   "name": "python3"
  },
  "language_info": {
   "codemirror_mode": {
    "name": "ipython",
    "version": 3
   },
   "file_extension": ".py",
   "mimetype": "text/x-python",
   "name": "python",
   "nbconvert_exporter": "python",
   "pygments_lexer": "ipython3",
   "version": "3.9.13"
  }
 },
 "nbformat": 4,
 "nbformat_minor": 5
}
