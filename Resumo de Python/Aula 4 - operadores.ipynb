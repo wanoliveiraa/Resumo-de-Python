{
 "cells": [
  {
   "cell_type": "markdown",
   "id": "75d3b5be",
   "metadata": {},
   "source": [
    "# Operadores If e Else"
   ]
  },
  {
   "cell_type": "code",
   "execution_count": 7,
   "id": "4fb9cd49",
   "metadata": {},
   "outputs": [
    {
     "name": "stdout",
     "output_type": "stream",
     "text": [
      "A logica não é verdadeira\n"
     ]
    }
   ],
   "source": [
    "logica =False\n",
    "if logica:\n",
    "    print(\"A logica é verdadeira\");\n",
    "else:\n",
    "    print(\"A logica não é verdadeira\");"
   ]
  },
  {
   "cell_type": "code",
   "execution_count": 10,
   "id": "f0c6e0c0",
   "metadata": {},
   "outputs": [
    {
     "name": "stdout",
     "output_type": "stream",
     "text": [
      "Digite sua primeira nota: 5\n",
      "Digite sua segunda nota: 9\n",
      "Voçê passou de ano!!!\n"
     ]
    }
   ],
   "source": [
    "def main():\n",
    "    nota_1 =int(input(\"Digite sua primeira nota: \"));\n",
    "    nota_2 =int(input(\"Digite sua segunda nota: \"));\n",
    "    media = (nota_1 + nota_2)/2\n",
    "    if media>=7:\n",
    "        print(\"Voçê passou de ano!!!\");\n",
    "    else:\n",
    "        print(\"Burrão\");\n",
    "main()"
   ]
  },
  {
   "cell_type": "markdown",
   "id": "fcd8654f",
   "metadata": {},
   "source": [
    "# Exercicio\n"
   ]
  },
  {
   "cell_type": "code",
   "execution_count": 23,
   "id": "d2a48b05",
   "metadata": {},
   "outputs": [
    {
     "name": "stdout",
     "output_type": "stream",
     "text": [
      "Digite um numero: 4\n"
     ]
    }
   ],
   "source": [
    "def main():\n",
    "    valor =int(input(\"Digite um numero: \"));\n",
    "    magico = 4;\n",
    "    \n",
    "        if valor<magico:\n",
    "            valor =int(input(\"Digite um numero maior: \"));\n",
    "        elif valor>magico:\n",
    "            valor =int(input(\"Digite um numero menor: \"));\n",
    "        else:\n",
    "            print(\"voçê acertou!!!\")\n",
    "\n",
    "main()"
   ]
  },
  {
   "cell_type": "markdown",
   "id": "83af0a40",
   "metadata": {},
   "source": [
    ">\n",
    ">=\n",
    "<\n",
    "<=\n",
    "==\n",
    "!="
   ]
  },
  {
   "cell_type": "code",
   "execution_count": 26,
   "id": "93c58e24",
   "metadata": {},
   "outputs": [
    {
     "name": "stdout",
     "output_type": "stream",
     "text": [
      "felipe\n"
     ]
    }
   ],
   "source": [
    "#apena bloco de execução\n",
    "def main():\n",
    "    char = 'f';\n",
    "    char2= 'a';\n",
    "    \n",
    "    if char=='f':\n",
    "        print(\"felipe\")\n",
    "    elif char2=='b':\n",
    "        print(\"luis\")\n",
    "    else: \n",
    "        print(\"tmj\")\n",
    "main();"
   ]
  },
  {
   "cell_type": "code",
   "execution_count": 35,
   "id": "79924ce7",
   "metadata": {},
   "outputs": [
    {
     "name": "stdout",
     "output_type": "stream",
     "text": [
      "tmj\n"
     ]
    }
   ],
   "source": [
    "def main():\n",
    "    char = 'z';\n",
    "    char2= 'c';\n",
    "    ## and ou or\n",
    "    if (char=='f' or char2==\"a\"):\n",
    "        print(\"felipe e luis\")\n",
    "    elif char2=='b':\n",
    "        print(\"luis\")\n",
    "    elif char=='f':\n",
    "        print(\"felipe\")\n",
    "    else: \n",
    "        print(\"tmj\")\n",
    "main();"
   ]
  },
  {
   "cell_type": "code",
   "execution_count": null,
   "id": "615f52a1",
   "metadata": {},
   "outputs": [],
   "source": []
  }
 ],
 "metadata": {
  "kernelspec": {
   "display_name": "Python 3 (ipykernel)",
   "language": "python",
   "name": "python3"
  },
  "language_info": {
   "codemirror_mode": {
    "name": "ipython",
    "version": 3
   },
   "file_extension": ".py",
   "mimetype": "text/x-python",
   "name": "python",
   "nbconvert_exporter": "python",
   "pygments_lexer": "ipython3",
   "version": "3.9.13"
  }
 },
 "nbformat": 4,
 "nbformat_minor": 5
}
