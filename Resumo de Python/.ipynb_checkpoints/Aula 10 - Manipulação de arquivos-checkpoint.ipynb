{
 "cells": [
  {
   "cell_type": "markdown",
   "id": "b61d14f6",
   "metadata": {},
   "source": [
    "# Manipulação de arquivos"
   ]
  },
  {
   "cell_type": "markdown",
   "id": "dd11985e",
   "metadata": {},
   "source": [
    "## Permissões de abertura\n"
   ]
  },
  {
   "cell_type": "code",
   "execution_count": 4,
   "id": "41005c3f",
   "metadata": {},
   "outputs": [],
   "source": [
    "f = open(\"arquivo.txt\",\"r\") #Read\n"
   ]
  },
  {
   "cell_type": "code",
   "execution_count": 5,
   "id": "d2c4ed53",
   "metadata": {},
   "outputs": [],
   "source": [
    "f = open(\"arquivo.txt\",\"a\") #Append"
   ]
  },
  {
   "cell_type": "code",
   "execution_count": 7,
   "id": "5464fe61",
   "metadata": {},
   "outputs": [],
   "source": [
    "f = open(\"arquivo.txt\",\"w\") #Write"
   ]
  },
  {
   "cell_type": "code",
   "execution_count": 8,
   "id": "10ec5af0",
   "metadata": {},
   "outputs": [],
   "source": [
    "f = open(\"arquivo2.txt\",\"w+\") #Write e criar um arquivo"
   ]
  },
  {
   "cell_type": "markdown",
   "id": "785d577b",
   "metadata": {},
   "source": [
    "# Leitura do arquivo"
   ]
  },
  {
   "cell_type": "code",
   "execution_count": 9,
   "id": "6a71c895",
   "metadata": {},
   "outputs": [
    {
     "name": "stdout",
     "output_type": "stream",
     "text": [
      "primeira linha\n",
      "segunda linha\n",
      "terceira linha\t\n",
      "quarta linha\n",
      "quinta linha\n"
     ]
    }
   ],
   "source": [
    "f =  open(\"arquivo.txt\",\"r\")\n",
    "print(f.read())"
   ]
  },
  {
   "cell_type": "code",
   "execution_count": 11,
   "id": "a9ec9a59",
   "metadata": {},
   "outputs": [
    {
     "data": {
      "text/plain": [
       "'primeira linha\\n'"
      ]
     },
     "execution_count": 11,
     "metadata": {},
     "output_type": "execute_result"
    }
   ],
   "source": [
    "f =  open(\"arquivo.txt\",\"r\")\n",
    "f.readline()"
   ]
  },
  {
   "cell_type": "code",
   "execution_count": 12,
   "id": "dc68a944",
   "metadata": {},
   "outputs": [
    {
     "data": {
      "text/plain": [
       "'segunda linha\\n'"
      ]
     },
     "execution_count": 12,
     "metadata": {},
     "output_type": "execute_result"
    }
   ],
   "source": [
    "f.readline() #cada execuçao o py lê a proxim a linha, ou seja, \"ignora\" a leitura das anteriores"
   ]
  },
  {
   "cell_type": "code",
   "execution_count": 13,
   "id": "356d7046",
   "metadata": {},
   "outputs": [
    {
     "data": {
      "text/plain": [
       "'terceira linha\\t\\n'"
      ]
     },
     "execution_count": 13,
     "metadata": {},
     "output_type": "execute_result"
    }
   ],
   "source": [
    "f.readline()"
   ]
  },
  {
   "cell_type": "code",
   "execution_count": 14,
   "id": "445c2cd9",
   "metadata": {},
   "outputs": [
    {
     "data": {
      "text/plain": [
       "'quarta linha\\n'"
      ]
     },
     "execution_count": 14,
     "metadata": {},
     "output_type": "execute_result"
    }
   ],
   "source": [
    "f.readline()"
   ]
  },
  {
   "cell_type": "code",
   "execution_count": 15,
   "id": "5aa84922",
   "metadata": {},
   "outputs": [
    {
     "data": {
      "text/plain": [
       "'quinta linha'"
      ]
     },
     "execution_count": 15,
     "metadata": {},
     "output_type": "execute_result"
    }
   ],
   "source": [
    "f.readline()"
   ]
  },
  {
   "cell_type": "code",
   "execution_count": 16,
   "id": "f0e2390b",
   "metadata": {},
   "outputs": [
    {
     "data": {
      "text/plain": [
       "''"
      ]
     },
     "execution_count": 16,
     "metadata": {},
     "output_type": "execute_result"
    }
   ],
   "source": [
    "f.readline()"
   ]
  },
  {
   "cell_type": "code",
   "execution_count": 17,
   "id": "b791b09f",
   "metadata": {},
   "outputs": [
    {
     "name": "stdout",
     "output_type": "stream",
     "text": [
      "['primeira linha\\n', 'segunda linha\\n', 'terceira linha\\t\\n', 'quarta linha\\n', 'quinta linha']\n"
     ]
    }
   ],
   "source": [
    "\n",
    "f =  open(\"arquivo.txt\",\"r\")\n",
    "linhas=f.readlines()\n",
    "print(linhas)"
   ]
  },
  {
   "cell_type": "code",
   "execution_count": 18,
   "id": "914c089e",
   "metadata": {},
   "outputs": [
    {
     "data": {
      "text/plain": [
       "'primeira linha\\n'"
      ]
     },
     "execution_count": 18,
     "metadata": {},
     "output_type": "execute_result"
    }
   ],
   "source": [
    "linhas[0]"
   ]
  },
  {
   "cell_type": "code",
   "execution_count": null,
   "id": "2f7e741c",
   "metadata": {},
   "outputs": [],
   "source": []
  }
 ],
 "metadata": {
  "kernelspec": {
   "display_name": "Python 3 (ipykernel)",
   "language": "python",
   "name": "python3"
  },
  "language_info": {
   "codemirror_mode": {
    "name": "ipython",
    "version": 3
   },
   "file_extension": ".py",
   "mimetype": "text/x-python",
   "name": "python",
   "nbconvert_exporter": "python",
   "pygments_lexer": "ipython3",
   "version": "3.9.13"
  }
 },
 "nbformat": 4,
 "nbformat_minor": 5
}
