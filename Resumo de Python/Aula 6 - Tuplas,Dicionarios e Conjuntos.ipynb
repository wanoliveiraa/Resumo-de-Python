{
 "cells": [
  {
   "cell_type": "markdown",
   "id": "03719f64",
   "metadata": {},
   "source": [
    "# T, D,C e Listas"
   ]
  },
  {
   "cell_type": "markdown",
   "id": "32a7cccb",
   "metadata": {},
   "source": [
    "### LISTAS\n"
   ]
  },
  {
   "cell_type": "code",
   "execution_count": 6,
   "id": "9992c66d",
   "metadata": {},
   "outputs": [
    {
     "name": "stdout",
     "output_type": "stream",
     "text": [
      "[0, 1, 2, 3, 4, 5, 6, 7, 8, 9, 10, 11]\n",
      "[0, 1, 2, 3, 4, 5, 6, 7, 8, 9, 10]\n"
     ]
    }
   ],
   "source": [
    "lista = []\n",
    "for i in range(12):\n",
    "    lista.append(i)\n",
    "print(lista)\n",
    "lista.remove(11)\n",
    "print(lista)"
   ]
  },
  {
   "cell_type": "markdown",
   "id": "deedc349",
   "metadata": {},
   "source": [
    "### TUPLAS\n",
    "não permite adiciona, nem remove e nem alterar\n",
    "#### imutavel\n"
   ]
  },
  {
   "cell_type": "code",
   "execution_count": 2,
   "id": "9a76f095",
   "metadata": {},
   "outputs": [
    {
     "name": "stdout",
     "output_type": "stream",
     "text": [
      "(1, 2, 3)\n"
     ]
    }
   ],
   "source": [
    "tupla =(1,2,3);\n",
    "print(tupla);"
   ]
  },
  {
   "cell_type": "code",
   "execution_count": 3,
   "id": "8ee611b6",
   "metadata": {},
   "outputs": [
    {
     "data": {
      "text/plain": [
       "(0, 1, 2, 3, 4, 5, 6, 7, 8, 9, 10)"
      ]
     },
     "execution_count": 3,
     "metadata": {},
     "output_type": "execute_result"
    }
   ],
   "source": [
    "\n",
    "tupla=tuple([i for i in range(11)])\n",
    "tupla\n"
   ]
  },
  {
   "cell_type": "markdown",
   "id": "217ff003",
   "metadata": {},
   "source": [
    "### Conjuntos\n",
    "não aceitam duplicadas\n",
    "set() coverte para conjuntos"
   ]
  },
  {
   "cell_type": "code",
   "execution_count": 4,
   "id": "30d97d5a",
   "metadata": {},
   "outputs": [
    {
     "name": "stdout",
     "output_type": "stream",
     "text": [
      "{'teste'}\n"
     ]
    }
   ],
   "source": [
    "conjunto = {'teste'}\n",
    "print(conjunto)"
   ]
  },
  {
   "cell_type": "code",
   "execution_count": 6,
   "id": "d3f56a0e",
   "metadata": {},
   "outputs": [
    {
     "data": {
      "text/plain": [
       "{1, 2, 3}"
      ]
     },
     "execution_count": 6,
     "metadata": {},
     "output_type": "execute_result"
    }
   ],
   "source": [
    "conjunto = {1,1,3,3,2}\n",
    "conjunto"
   ]
  },
  {
   "cell_type": "code",
   "execution_count": 8,
   "id": "7bbe74c5",
   "metadata": {},
   "outputs": [
    {
     "name": "stdout",
     "output_type": "stream",
     "text": [
      "{'c', 'b', 'a'}\n",
      "{'d', 'e', 'f'}\n"
     ]
    }
   ],
   "source": [
    "conjunto1 = {'a','b','c'}\n",
    "conjunto2 = {'d','e','f'}\n",
    "\n",
    "print(conjunto1)\n",
    "print(conjunto2)"
   ]
  },
  {
   "cell_type": "code",
   "execution_count": 9,
   "id": "935eda7a",
   "metadata": {},
   "outputs": [
    {
     "name": "stdout",
     "output_type": "stream",
     "text": [
      "{'c', 'w', 'b', 'a'}\n"
     ]
    }
   ],
   "source": [
    "conjunto1.add('w')\n",
    "print(conjunto1)"
   ]
  },
  {
   "cell_type": "markdown",
   "id": "e1873a25",
   "metadata": {},
   "source": [
    "# Dicionarios\n",
    "é uma estrutura de dados composta por chave e valores"
   ]
  },
  {
   "cell_type": "markdown",
   "id": "24934d77",
   "metadata": {},
   "source": [
    "- lista =[]\n",
    "- tuplas=()\n",
    "- conjunyos={}\n",
    "- chave=>valor"
   ]
  },
  {
   "cell_type": "code",
   "execution_count": 2,
   "id": "bb6510c7",
   "metadata": {},
   "outputs": [
    {
     "name": "stdout",
     "output_type": "stream",
     "text": [
      "{'dog': 'cachorro'}\n",
      "<class 'dict'>\n"
     ]
    }
   ],
   "source": [
    "dict = {\"dog\":\"cachorro\"}\n",
    "print(dict)\n",
    "print(type(dict))"
   ]
  },
  {
   "cell_type": "code",
   "execution_count": 44,
   "id": "30719f24",
   "metadata": {},
   "outputs": [
    {
     "ename": "SyntaxError",
     "evalue": "invalid syntax (4166198592.py, line 1)",
     "output_type": "error",
     "traceback": [
      "\u001b[1;36m  File \u001b[1;32m\"C:\\Users\\walde\\AppData\\Local\\Temp\\ipykernel_11612\\4166198592.py\"\u001b[1;36m, line \u001b[1;32m1\u001b[0m\n\u001b[1;33m    dict = {0:\"cachorro\":\"oi\",1:\"gato\",2:\"peixe\"}\u001b[0m\n\u001b[1;37m                        ^\u001b[0m\n\u001b[1;31mSyntaxError\u001b[0m\u001b[1;31m:\u001b[0m invalid syntax\n"
     ]
    }
   ],
   "source": [
    "dict = {0:\"cachorro\",1:\"gato\",2:\"peixe\"}\n",
    "print(dict.get(0));\n",
    "print(dict[2])"
   ]
  },
  {
   "cell_type": "code",
   "execution_count": 29,
   "id": "267ec54b",
   "metadata": {},
   "outputs": [
    {
     "name": "stdout",
     "output_type": "stream",
     "text": [
      "cachorro\n",
      "gato\n",
      "peixe\n",
      "0\n",
      "1\n",
      "2\n",
      "dict_keys([0, 1, 2])\n",
      "dict_values(['cachorro', 'gato', 'peixe'])\n",
      "dict_items([(0, 'cachorro'), (1, 'gato'), (2, 'peixe')])\n"
     ]
    }
   ],
   "source": [
    "for i in range(0,3):\n",
    "    print(dict[i])\n",
    "for i in dict:\n",
    "    print(i)\n",
    "print(dict.keys());\n",
    "print(dict.values());\n",
    "print(dict.items());"
   ]
  },
  {
   "cell_type": "code",
   "execution_count": 32,
   "id": "7948e490",
   "metadata": {},
   "outputs": [
    {
     "name": "stdout",
     "output_type": "stream",
     "text": [
      "a chave é: 0 e o valor é cachorro\n",
      " o tipo da chave: <class 'int'> e do valor <class 'str'>\n",
      "a chave é: 1 e o valor é gato\n",
      " o tipo da chave: <class 'int'> e do valor <class 'str'>\n",
      "a chave é: 2 e o valor é peixe\n",
      " o tipo da chave: <class 'int'> e do valor <class 'str'>\n"
     ]
    }
   ],
   "source": [
    "for chave, valor in dict.items():\n",
    "    print(f\"a chave é: {chave} e o valor é {valor}\" )\n",
    "    print(f\" o tipo da chave: {type(chave)} e do valor {type(valor)}\")"
   ]
  },
  {
   "cell_type": "code",
   "execution_count": 34,
   "id": "86088299",
   "metadata": {},
   "outputs": [
    {
     "name": "stdout",
     "output_type": "stream",
     "text": [
      "tem\n"
     ]
    }
   ],
   "source": [
    "if \"cachorro\" in dict.values():\n",
    "    print(\"tem\")\n",
    "else:\n",
    "    print(\"nao tem\")"
   ]
  },
  {
   "cell_type": "code",
   "execution_count": 37,
   "id": "c106a382",
   "metadata": {},
   "outputs": [
    {
     "name": "stdout",
     "output_type": "stream",
     "text": [
      "{0: 'cachorro', 1: 'gato', 2: 'peixe', 4: 'macaco'}\n",
      "{0: 'cachorro', 1: 'gato', 2: 'peixe'}\n"
     ]
    }
   ],
   "source": [
    "dict[4]=\"macaco\"\n",
    "print(dict)\n",
    "dict.pop(4)\n",
    "print(dict)"
   ]
  },
  {
   "cell_type": "markdown",
   "id": "af75236d",
   "metadata": {},
   "source": [
    "## alinhando Estruturas\n"
   ]
  },
  {
   "cell_type": "code",
   "execution_count": 45,
   "id": "a6b98eb2",
   "metadata": {},
   "outputs": [
    {
     "name": "stdout",
     "output_type": "stream",
     "text": [
      "{0: {'nome': 'aprenda desing', 'categoria': 'desing', 'instrutor': 'joãozin'}, 1: {'nome': 'aprenda web', 'categoria': 'aprenda web', 'instrutor': 'felipinho'}}\n"
     ]
    }
   ],
   "source": [
    "curso = {\n",
    "    0:{\n",
    "        \"nome\" : \"aprenda desing\",\n",
    "        \"categoria\":\"desing\",\n",
    "        \"instrutor\" : \"joãozin\"\n",
    "    },   \n",
    "    1:{\n",
    "        \"nome\":\"aprenda web\",\n",
    "        \"categoria\": \"aprenda web\",\n",
    "       \"instrutor\" : \"felipinho\"\n",
    "    } \n",
    "}\n",
    "print(curso)"
   ]
  },
  {
   "cell_type": "code",
   "execution_count": 48,
   "id": "c5b07447",
   "metadata": {},
   "outputs": [
    {
     "name": "stdout",
     "output_type": "stream",
     "text": [
      "{'nome': 'aprenda desing', 'categoria': 'desing', 'instrutor': 'joãozin'}\n",
      "{'nome': 'aprenda web', 'categoria': 'aprenda web', 'instrutor': 'felipinho'}\n"
     ]
    }
   ],
   "source": [
    "for i in range (0,2):\n",
    "    print(curso[i])\n",
    "    "
   ]
  },
  {
   "cell_type": "code",
   "execution_count": null,
   "id": "2acdf19e",
   "metadata": {},
   "outputs": [],
   "source": []
  }
 ],
 "metadata": {
  "kernelspec": {
   "display_name": "Python 3 (ipykernel)",
   "language": "python",
   "name": "python3"
  },
  "language_info": {
   "codemirror_mode": {
    "name": "ipython",
    "version": 3
   },
   "file_extension": ".py",
   "mimetype": "text/x-python",
   "name": "python",
   "nbconvert_exporter": "python",
   "pygments_lexer": "ipython3",
   "version": "3.9.13"
  }
 },
 "nbformat": 4,
 "nbformat_minor": 5
}
