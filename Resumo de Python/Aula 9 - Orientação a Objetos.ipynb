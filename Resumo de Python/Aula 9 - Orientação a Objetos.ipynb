{
 "cells": [
  {
   "cell_type": "markdown",
   "id": "32f7d748",
   "metadata": {},
   "source": [
    "# Orientação a Objetos"
   ]
  },
  {
   "cell_type": "markdown",
   "id": "424c93a0",
   "metadata": {},
   "source": [
    "## Classes\n",
    "Uma classe define uma estrutura de dados que conheta instâncias de atributos, instâncias de métodos e classes aninhadas.  \n",
    "Classes são estruturas de dados que possuem Atributos e Métodos para virem a serem implementadas por futuros objetos.  \n",
    "Classes, então, são representações computacionais de algo que queremos introduzir no nosso código.  "
   ]
  },
  {
   "cell_type": "code",
   "execution_count": 1,
   "id": "d0476c56",
   "metadata": {},
   "outputs": [],
   "source": [
    "# Classes -> Representação\n",
    " # Atributos -> Variáveis\n",
    " # Métodos -> Funções"
   ]
  },
  {
   "cell_type": "code",
   "execution_count": 2,
   "id": "04a82394",
   "metadata": {},
   "outputs": [],
   "source": [
    "# Classe Carro:\n",
    "    # Modelo\n",
    "    # Ano\n",
    "    # Estado\n",
    "    \n",
    "    # liga_desliga()\n",
    "    # acelerar()\n",
    "    # test_drive()\n",
    "    # comprar()\n",
    "  \n",
    "    \n",
    "# Modelo, Ano e Estado => São Atributos\n",
    "# Ligar e Desligar, Acelerar, Fazer Test Drive e Comprar => São Métodos"
   ]
  },
  {
   "cell_type": "markdown",
   "id": "0e4249bc",
   "metadata": {},
   "source": [
    "## Objetos\n",
    "Um objeto em linguagem de programação representa a posição onde será armazenada uma instancia daquela classe.  \n",
    "Objetos são instâncias (versões/criações/representação) da classe (o que o objeto tenta representar). \n",
    "Todo objeto possui um tipo.  \n",
    "    "
   ]
  },
  {
   "cell_type": "code",
   "execution_count": 4,
   "id": "cceaafac",
   "metadata": {},
   "outputs": [],
   "source": [
    "# carro_ferrari \n",
    "   # Modelo  -> Ferrari\n",
    "   # Ano     -> 2019\n",
    "   # Estado  -> Novo\n",
    "    \n",
    "   # liga_desliga() -> Método para ligar e desligar o carro\n",
    "   # acelerar() -> Método para acelerar\n",
    "   # test_drive() -> Método para testar o carro\n",
    "   # comprar() -> Método para comprar o carro\n",
    "    \n",
    "# carro_bmw\n",
    "   # Modelo -> BMW\n",
    "   # Ano    -> 2016\n",
    "   # Estado -> Semi-Novo\n",
    "    \n",
    "   # liga_desliga() -> Método para ligar e desligar o carro\n",
    "   # acelerar() -> Método para acelerar\n",
    "   # test_drive() -> Método para testar o carro\n",
    "   # comprar() -> Método para comprar o carro"
   ]
  },
  {
   "cell_type": "markdown",
   "id": "412a31cf",
   "metadata": {},
   "source": [
    "## Resumindo"
   ]
  },
  {
   "cell_type": "code",
   "execution_count": 11,
   "id": "83543839",
   "metadata": {},
   "outputs": [],
   "source": [
    "# Classe = Carro\n",
    "  # Atributos = Modelo , Ano e Estado\n",
    "  # Métodos = liga_desliga() , acelerar(), test_drive() e comprar()\n",
    "\n",
    "# Objeto = Instancias da Classe (representações/variaveis da classe) => Variável do tipo carro"
   ]
  },
  {
   "cell_type": "code",
   "execution_count": 12,
   "id": "ec913bf3",
   "metadata": {},
   "outputs": [],
   "source": [
    "# Classes são representações computacionais de algo que queremos vir a utilizar no decorrer do nosso código. \n",
    "# Onde representamos os atributos e métodos de acordo com a nossa necessidade.\n",
    "\n",
    "# Já os objetos são as nossas variaveis desse tipo de classe."
   ]
  },
  {
   "cell_type": "markdown",
   "id": "9915c7a8",
   "metadata": {},
   "source": [
    "## Exemplificando"
   ]
  },
  {
   "cell_type": "code",
   "execution_count": 14,
   "id": "9d0eaa53",
   "metadata": {},
   "outputs": [
    {
     "name": "stdout",
     "output_type": "stream",
     "text": [
      "O valor do estado do fusca é novo\n",
      "O valor do estado da ferrari é usado\n",
      "O tipo do fusca é <class '__main__.Carro'>\n",
      "O tipo da ferrari é <class '__main__.Carro'>\n",
      "O tipo do atributo 'estado' do fusca é <class 'str'>\n",
      "O tipo do atributo 'estado' da ferrari é <class 'str'>\n"
     ]
    }
   ],
   "source": [
    "class Carro(object):\n",
    "    estado = 'novo'\n",
    "    \n",
    "fusca = Carro() # Objeto\n",
    "fusca.estado = 'novo' # Atributo\n",
    "\n",
    "ferrari = Carro() # Objeto\n",
    "ferrari.estado = 'usado' # Atributo\n",
    "\n",
    "print('O valor do estado do fusca é',fusca.estado) # Valor do Atributo\n",
    "print('O valor do estado da ferrari é',ferrari.estado) # Valor do Atributo\n",
    "print('O tipo do fusca é',type(fusca)) # Tipo do Objeto\n",
    "print('O tipo da ferrari é',type(ferrari)) # Tipo do Objeto\n",
    "print('O tipo do atributo \\'estado\\' do fusca é',type(fusca.estado)) # Tipo do Atributo\n",
    "print('O tipo do atributo \\'estado\\' da ferrari é',type(ferrari.estado)) # Tipo do Atributo"
   ]
  },
  {
   "cell_type": "markdown",
   "id": "c62db535",
   "metadata": {},
   "source": [
    "# Vamos deixar mais formal?\n",
    "## Orientação a objeto\n",
    "\n",
    "Um objeto em linguagem de programação abstrata representa a posição onde será armazenada uma instancia (versão) daquela classe (o que o objeto representa). Os objetos em Python apresentam os seguintes atributos:\n",
    "\n",
    "* Tipo: O tipo de um objeto determina os valores que o objeto pode receber e as operações que podem ser executadas nesse objeto.\n",
    "\n",
    "* Valor: O valor de um objeto é o índice de memória ocupada por essa variável. Como os índices das posições da memória são interpretados, isto é determinado pelo tipo da variável.\n",
    "\n",
    "* Tempo de vida: A vida de um objeto é o intervalo de tempo de execução de um programa em Python, é durante este tempo que o objeto existe.\n",
    "\n",
    "Python define uma extensa hierarquia de tipos. Esta hierarquia inclui os tipos numéricos (tais como int, float e complex), seqüências (tais como a tupla e a lista), funções (tipo função), classes e métodos (tipos classobj e instancemethod), e as instâncias da classe (tipo instance). \n",
    "\n",
    "## Classes\n",
    "\n",
    "Uma classe define uma estrutura de dados que contenha instância de atributos, instância de métodos e classes aninhadas. Em Python a classe de um objeto e o tipo de um objeto são sinônimos. Cada objeto do Python tem uma classe (tipo) que é derivada diretamente ou indiretamente da classe interna do objeto do Python. A classe (tipo) de um objeto determina o que é e como pode ser manipulado. Uma classe encapsula dados, operações e semântica.\n",
    "\n",
    "A classe é o que faz com que Python seja uma linguagem de programação orientada a objetos. Classe é definida como um agrupamento de valores sua gama de operações. As classes facilitam a modularidade e abstração de complexidade. O usuário de uma classe manipula objetos instanciados dessa classe somente com os métodos fornecidos por essa classe.\n",
    "\n",
    "Frequentemente classes diferentes possuem características comuns. As classes diferentes podem compartilhar valores comuns e podem executar as mesmas operações. Em Python tais relacionamentos são expressados usando derivação e herança. \n",
    "\n",
    "### Instâncias, Instância de Atributos e Métodos\n",
    "\n",
    "Objetos são instanciados pelas classes. Cada instância (objeto) em uma programa Python tem seu próprio namespace.\n",
    "\n",
    "Um classe criada é chamada de classe objeto (tipo classobj). Os nomes no namespace da classe objeto são chamados de atributos da classe. Funções definidas dentro de uma classe são chamadas de métodos.\n",
    "\n",
    "Quando um objeto é criado, o namespace herda todos os nomes do namespace da classe onde o objeto está. O nome em um namespace de instância é chamado de atributo de instância.\n",
    "\n",
    "Um método é uma função criada na definição de uma classe. O primeiro argumento do método é sempre referenciado no início do processo. Por convenção, o primeiro argumento do método tem sempre o nome self. Portanto, os atributos de self são atributos de instância da classe."
   ]
  },
  {
   "cell_type": "markdown",
   "id": "d22be04b",
   "metadata": {},
   "source": [
    "# Pronto! Agora vamos voltar ao informal :)"
   ]
  },
  {
   "cell_type": "markdown",
   "id": "2785c88c",
   "metadata": {},
   "source": [
    "## Instâncias Abertas\n",
    "Nem sempre precisamos definir tudo direto na classe.  \n",
    "Uma classe pode ter suas propriedades definidas diretamente nos objetos.  \n",
    "Dessa forma, os atributos são inseridos dinamicamente nos objetos.  "
   ]
  },
  {
   "cell_type": "code",
   "execution_count": 18,
   "id": "94cc2262",
   "metadata": {},
   "outputs": [],
   "source": [
    "class Caro(object):\n",
    "    \n",
    "    pass"
   ]
  },
  {
   "cell_type": "code",
   "execution_count": 20,
   "id": "1223efa4",
   "metadata": {},
   "outputs": [
    {
     "name": "stdout",
     "output_type": "stream",
     "text": [
      "novo\n",
      "12\n"
     ]
    }
   ],
   "source": [
    "fusca = Carro()\n",
    "fusca.estado =\"novo\"\n",
    "fusca.multas=12\n",
    "print(fusca.estado)\n",
    "print(fusca.multas)"
   ]
  },
  {
   "cell_type": "markdown",
   "id": "bc104e54",
   "metadata": {},
   "source": [
    "## Atributos de Classe\n",
    "É um atributo que fica diretamente na classe.  \n",
    "Sendo assim, todos os objetos dessa classe terão essa propriedade (atributo).  "
   ]
  },
  {
   "cell_type": "markdown",
   "id": "292022ab",
   "metadata": {},
   "source": [
    "Em Python precisamos atentar que \"as coisas\" ou são da classe ou são da instância."
   ]
  },
  {
   "cell_type": "code",
   "execution_count": 21,
   "id": "260659f7",
   "metadata": {},
   "outputs": [
    {
     "name": "stdout",
     "output_type": "stream",
     "text": [
      "novo\n"
     ]
    }
   ],
   "source": [
    "class Carro(object):\n",
    "    estado=\"novo\"\n",
    "print(Carro.estado)"
   ]
  },
  {
   "cell_type": "code",
   "execution_count": 24,
   "id": "923c0151",
   "metadata": {},
   "outputs": [
    {
     "name": "stdout",
     "output_type": "stream",
     "text": [
      "usado\n",
      "novo\n"
     ]
    }
   ],
   "source": [
    "fusca=Carro()\n",
    "fusca.estado=\"usado\"\n",
    "print(fusca.estado)\n",
    "print(Carro.estado)"
   ]
  },
  {
   "cell_type": "markdown",
   "id": "59f9b442",
   "metadata": {},
   "source": [
    "## Self\n",
    "Para editarmos uma propriedade apenas do objeto que chama um método usamos a palavra reservada 'self'. \n",
    "\n",
    "Portanto todo método deve o parâmetro 'self' e esse ser o primeiro"
   ]
  },
  {
   "cell_type": "code",
   "execution_count": 3,
   "id": "7f9510fa",
   "metadata": {},
   "outputs": [
    {
     "name": "stdout",
     "output_type": "stream",
     "text": [
      "novo\n",
      "usado\n",
      "novo\n"
     ]
    }
   ],
   "source": [
    "class Carro(object):\n",
    "    estado=\"novo\"\n",
    "    def dirigir(self):\n",
    "        self.estado=\"usado\";\n",
    "        \n",
    "# Exemplo 1\n",
    "bmw=Carro();\n",
    "ferrari=Carro();\n",
    "print(bmw.estado);\n",
    "bmw.dirigir();\n",
    "print(bmw.estado);\n",
    "print(ferrari.estado)"
   ]
  },
  {
   "cell_type": "markdown",
   "id": "f0710960",
   "metadata": {},
   "source": [
    "# Diferenciando atributos da classe com atributos da instancia"
   ]
  },
  {
   "cell_type": "code",
   "execution_count": 6,
   "id": "e9994f5d",
   "metadata": {},
   "outputs": [
    {
     "name": "stdout",
     "output_type": "stream",
     "text": [
      "1- novo\n",
      "1- semi-novo\n",
      "2- novo\n",
      "Carro- novo\n",
      "Carro- quebrado\n",
      "1: semi-novo\n",
      "2: quebrado\n",
      "3: quebrado\n"
     ]
    }
   ],
   "source": [
    "class Carro(object):\n",
    "    estado=\"novo\"\n",
    "\n",
    "carro1=Carro();\n",
    "print(\"1-\",carro1.estado)\n",
    "carro1.estado = \"semi-novo\"\n",
    "carro2=Carro()\n",
    "\n",
    "print(\"1-\",carro1.estado)\n",
    "print(\"2-\",carro2.estado)\n",
    "\n",
    "print(\"Carro-\",Carro.estado)\n",
    "Carro.estado=\"quebrado\"\n",
    "print(\"Carro-\",Carro.estado)\n",
    "\n",
    "carro3=Carro();\n",
    "print('1:',carro1.estado) # Carro 1 possui um atributo de INSTÂNCIA\n",
    "print('2:',carro2.estado) # Carro 2 possui um atributo de CLASSE\n",
    "print('3:',carro3.estado) # Carro 3 possui um atributo de CLASSE\n"
   ]
  },
  {
   "cell_type": "markdown",
   "id": "2d858e16",
   "metadata": {},
   "source": [
    "## Construtor de classe (__init__)\n",
    "O constutor de calsse no Python é chamado de __init__ e ele é usado para criar uma nova instância do objeto.  \n",
    "Caso usarmos algum parâmetro no construtor, torna-se obrigatório o envio desse parâmetro na hora da criação do objeto.  \n",
    "Com isso, podemos criar valores padrões para nossos objetos.  "
   ]
  },
  {
   "cell_type": "code",
   "execution_count": 16,
   "id": "eb8ea2a2",
   "metadata": {},
   "outputs": [
    {
     "name": "stdout",
     "output_type": "stream",
     "text": [
      "novo\n",
      "semi-novo\n"
     ]
    }
   ],
   "source": [
    "class Carro(object):\n",
    "    def __init__(self,estado):\n",
    "        self.estado=estado;\n",
    "\n",
    "ferrari=Carro(\"novo\");\n",
    "bmw=Carro(\"semi-novo\")\n",
    "print(ferrari.estado)\n",
    "print(bmw.estado)"
   ]
  },
  {
   "cell_type": "markdown",
   "id": "19645fcf",
   "metadata": {},
   "source": [
    "# Desafio 9.1 - Desafio do Carro Nomeado\n",
    "Criar uma classe Carro onde além de estado também tem um nome por padrão (Construtor).  \n",
    "Criar um método nessa classe Carro onde vai printar para gente o Nome e o Estado do carro."
   ]
  },
  {
   "cell_type": "code",
   "execution_count": 19,
   "id": "391f0962",
   "metadata": {},
   "outputs": [
    {
     "name": "stdout",
     "output_type": "stream",
     "text": [
      " o estado do carro:novo\n",
      " o nome do carro:Bmw\n",
      " o estado do carro:semi-novo\n",
      " o nome do carro:Ferrari\n"
     ]
    }
   ],
   "source": [
    "class Carro(object):\n",
    "    def __init__(self,estado,nome):\n",
    "        self.estado=estado;\n",
    "        self.nome=nome;\n",
    "    \n",
    "    def printar(self):\n",
    "        print(f\" o estado do carro:{self.estado}\");\n",
    "        print(f\" o nome do carro:{self.nome}\")\n",
    "\n",
    "\n",
    "bmw=Carro(\"novo\",\"Bmw\");\n",
    "ferrari=Carro(\"semi-novo\",\"Ferrari\")\n",
    "bmw.printar();\n",
    "ferrari.printar();"
   ]
  },
  {
   "cell_type": "markdown",
   "id": "af32c5fc",
   "metadata": {},
   "source": [
    "# Desafio"
   ]
  },
  {
   "cell_type": "code",
   "execution_count": 20,
   "id": "3e9c8dee",
   "metadata": {},
   "outputs": [],
   "source": [
    "class Carro(object):\n",
    "    comprado = False\n",
    "    \n",
    "    def __init__(self,modelo,ano,estado):\n",
    "        self.modelo = modelo\n",
    "        self.ano = ano\n",
    "        self.estado = estado\n",
    "        \n",
    "    def comprar(self):\n",
    "        if(self.comprado):\n",
    "            print(\"Você já comprou, não pode comprar novamente!\")\n",
    "            return # Interrompe o ciclo / Para a execução ('estilo um break')\n",
    "        \n",
    "        self.comprado = True\n",
    "        print(\"Você comprou o carro\")\n",
    "        \n",
    "    def test_drive(self):\n",
    "        if(not self.comprado):\n",
    "            print(\"Você vai fazer o test drive\")\n",
    "            self.liga_desliga(True)\n",
    "            print(\"Você está fazendo o test drive\")\n",
    "            if(self.acelerar()):\n",
    "                print(\"Você está acelerando\")\n",
    "            else:\n",
    "                print(\"Você não pode acelerar\")\n",
    "            self.liga_desliga(False)\n",
    "            print(\"Você terminou de fazer o test drive\")\n",
    "        else:\n",
    "            print(\"Você não pode fazer o test drive pois comprou o carro, vá dirigir!\")\n",
    "        \n",
    "    def dirigir(self):\n",
    "        if(self.comprado):\n",
    "            print(\"Você vai dirigir\")\n",
    "            self.liga_desliga(True)\n",
    "            print(\"Você está dirigindo\")\n",
    "            if(self.acelerar()):\n",
    "                print(\"Você está acelerando\")\n",
    "            else:\n",
    "                print(\"Você não pode acelerar\")\n",
    "            self.liga_desliga(False)\n",
    "            print(\"Você terminou de dirigir\")\n",
    "        else:\n",
    "            print(\"Você só pode dirigir se comprar o carro!\")\n",
    "        \n",
    "    def acelerar(self):\n",
    "        return self.comprado\n",
    "    \n",
    "    def liga_desliga(self, status):\n",
    "        if status: # Booleano\n",
    "            print(\"Você ligou o carro\")\n",
    "        else:\n",
    "            print(\"Você desligou o carro\")"
   ]
  },
  {
   "cell_type": "code",
   "execution_count": 21,
   "id": "05b5f5bf",
   "metadata": {},
   "outputs": [],
   "source": [
    "ferrari = Carro('Ferrari','2019','Novo')"
   ]
  },
  {
   "cell_type": "code",
   "execution_count": 31,
   "id": "56cafed0",
   "metadata": {},
   "outputs": [
    {
     "name": "stdout",
     "output_type": "stream",
     "text": [
      "Você não pode fazer o test drive pois comprou o carro, vá dirigir!\n"
     ]
    }
   ],
   "source": [
    "ferrari.test_drive()"
   ]
  },
  {
   "cell_type": "code",
   "execution_count": null,
   "id": "126eccf7",
   "metadata": {},
   "outputs": [],
   "source": []
  }
 ],
 "metadata": {
  "kernelspec": {
   "display_name": "Python 3 (ipykernel)",
   "language": "python",
   "name": "python3"
  },
  "language_info": {
   "codemirror_mode": {
    "name": "ipython",
    "version": 3
   },
   "file_extension": ".py",
   "mimetype": "text/x-python",
   "name": "python",
   "nbconvert_exporter": "python",
   "pygments_lexer": "ipython3",
   "version": "3.9.13"
  }
 },
 "nbformat": 4,
 "nbformat_minor": 5
}
