{
 "cells": [
  {
   "cell_type": "markdown",
   "id": "d921fb62",
   "metadata": {},
   "source": [
    "# Funções"
   ]
  },
  {
   "cell_type": "code",
   "execution_count": 1,
   "id": "d63b3d8e",
   "metadata": {},
   "outputs": [
    {
     "name": "stdout",
     "output_type": "stream",
     "text": [
      "ai calica\n"
     ]
    }
   ],
   "source": [
    "def main():\n",
    "    print(\"ai calica\")\n",
    "main()    "
   ]
  },
  {
   "cell_type": "code",
   "execution_count": 3,
   "id": "ff5ead23",
   "metadata": {},
   "outputs": [
    {
     "name": "stdout",
     "output_type": "stream",
     "text": [
      "5\n"
     ]
    }
   ],
   "source": [
    "def nome (oi):\n",
    "    print(oi);\n",
    "nome(\"Wando\");    "
   ]
  },
  {
   "cell_type": "code",
   "execution_count": 5,
   "id": "0604e1f6",
   "metadata": {},
   "outputs": [
    {
     "name": "stdout",
     "output_type": "stream",
     "text": [
      "7.0\n"
     ]
    }
   ],
   "source": [
    "def media(nota1,nota2):\n",
    "    media = (nota1+nota2)/2;\n",
    "    return media\n",
    "media(5,9)\n"
   ]
  },
  {
   "cell_type": "markdown",
   "id": "9a27ddaa",
   "metadata": {},
   "source": [
    "# Exercicio\n"
   ]
  },
  {
   "cell_type": "code",
   "execution_count": 6,
   "id": "68fbbbc0",
   "metadata": {},
   "outputs": [
    {
     "name": "stdout",
     "output_type": "stream",
     "text": [
      "Digite seu valor:6\n",
      "Digite seu valor:6\n"
     ]
    },
    {
     "data": {
      "text/plain": [
       "6.0"
      ]
     },
     "execution_count": 6,
     "metadata": {},
     "output_type": "execute_result"
    }
   ],
   "source": [
    "def media():\n",
    "    notas1=int(input(\"Digite seu valor:\"))\n",
    "    notas2=int(input(\"Digite seu valor:\"))\n",
    "    return (notas1+notas2)/2;\n",
    "media()"
   ]
  },
  {
   "cell_type": "code",
   "execution_count": 9,
   "id": "b3564add",
   "metadata": {},
   "outputs": [
    {
     "name": "stdout",
     "output_type": "stream",
     "text": [
      "Digite seu valor:9\n",
      "Digite seu valor:6\n"
     ]
    },
    {
     "data": {
      "text/plain": [
       "7.5"
      ]
     },
     "execution_count": 9,
     "metadata": {},
     "output_type": "execute_result"
    }
   ],
   "source": [
    "def media(notas1,notas2):\n",
    "    return (notas1+notas2)/2;\n",
    "\n",
    "def notas():\n",
    "    notas1=int(input(\"Digite seu valor:\"))\n",
    "    notas2=int(input(\"Digite seu valor:\"))\n",
    "    return media(notas1,notas2);\n",
    "notas()"
   ]
  },
  {
   "cell_type": "code",
   "execution_count": null,
   "id": "afb24f1c",
   "metadata": {},
   "outputs": [],
   "source": []
  }
 ],
 "metadata": {
  "kernelspec": {
   "display_name": "Python 3 (ipykernel)",
   "language": "python",
   "name": "python3"
  },
  "language_info": {
   "codemirror_mode": {
    "name": "ipython",
    "version": 3
   },
   "file_extension": ".py",
   "mimetype": "text/x-python",
   "name": "python",
   "nbconvert_exporter": "python",
   "pygments_lexer": "ipython3",
   "version": "3.9.13"
  }
 },
 "nbformat": 4,
 "nbformat_minor": 5
}
