{
 "cells": [
  {
   "cell_type": "markdown",
   "id": "cd9b0bbb",
   "metadata": {},
   "source": [
    "# Variaveis\n"
   ]
  },
  {
   "cell_type": "markdown",
   "id": "c6a9efce",
   "metadata": {},
   "source": [
    "## Motivaçãoes\n",
    "são usadas para guardamos valores que serão usados mias tarde no programa"
   ]
  },
  {
   "cell_type": "code",
   "execution_count": 11,
   "id": "82149e2b",
   "metadata": {},
   "outputs": [
    {
     "data": {
      "text/plain": [
       "4"
      ]
     },
     "execution_count": 11,
     "metadata": {},
     "output_type": "execute_result"
    }
   ],
   "source": [
    "numero1 = 4;\n",
    "numero2 = 12;\n",
    "numero3= 69;\n",
    "\n",
    "numero1\n",
    "    "
   ]
  },
  {
   "cell_type": "code",
   "execution_count": 12,
   "id": "a4ce8c2a",
   "metadata": {},
   "outputs": [
    {
     "data": {
      "text/plain": [
       "85"
      ]
     },
     "execution_count": 12,
     "metadata": {},
     "output_type": "execute_result"
    }
   ],
   "source": [
    "\n",
    "soma=numero1 + numero2 +numero3;\n",
    "\n",
    "soma\n"
   ]
  },
  {
   "cell_type": "markdown",
   "id": "eb8a9665",
   "metadata": {},
   "source": [
    "## Exercicio 2.1\n"
   ]
  },
  {
   "cell_type": "code",
   "execution_count": 15,
   "id": "b3656be3",
   "metadata": {},
   "outputs": [
    {
     "data": {
      "text/plain": [
       "(30, 200)"
      ]
     },
     "execution_count": 15,
     "metadata": {},
     "output_type": "execute_result"
    }
   ],
   "source": [
    "a=10;\n",
    "b=20;\n",
    "\n",
    "soma= a + b;\n",
    "mul = a * b;\n",
    "\n",
    "soma,mul"
   ]
  },
  {
   "cell_type": "markdown",
   "id": "1d988ded",
   "metadata": {},
   "source": [
    "## Comandos get(recuperando o valor de uma variável)\n",
    "var1(set) = var2 (get)"
   ]
  },
  {
   "cell_type": "markdown",
   "id": "2b6ae492",
   "metadata": {},
   "source": [
    "# Métodos de saída de dados\n",
    "No pynthon usamos print()"
   ]
  },
  {
   "cell_type": "code",
   "execution_count": 24,
   "id": "ff683c5c",
   "metadata": {},
   "outputs": [
    {
     "name": "stdout",
     "output_type": "stream",
     "text": [
      "A soma é: 69\n"
     ]
    }
   ],
   "source": [
    "def main():\n",
    "    a = 65;\n",
    "    b= 4;\n",
    "    soma = a + b;\n",
    "    print(\"A soma é:\",soma);\n",
    "    \n",
    "main();"
   ]
  },
  {
   "cell_type": "markdown",
   "id": "54358407",
   "metadata": {},
   "source": [
    "# Entrada de dados(input)\n",
    "Receber dados dos usuarios\n",
    "O inpt aceita um texto com parâmetro para a descrição do que vai recebido\n"
   ]
  },
  {
   "cell_type": "code",
   "execution_count": 30,
   "id": "cffe9986",
   "metadata": {},
   "outputs": [
    {
     "name": "stdout",
     "output_type": "stream",
     "text": [
      "Digite seu primero nome:Dudu\n",
      "Digite seu segundo nome:do palmeiras\n",
      "A nome completo é: Dudu do palmeiras\n"
     ]
    }
   ],
   "source": [
    "def main():\n",
    "    a = input(\"Digite seu primero nome:\");\n",
    "    b = input(\"Digite seu segundo nome:\");\n",
    "    print(\"A nome completo é:\",a,b);\n",
    "    \n",
    "main();"
   ]
  },
  {
   "cell_type": "markdown",
   "id": "08a1d261",
   "metadata": {},
   "source": [
    "# Tipo de variáveis\n"
   ]
  },
  {
   "cell_type": "code",
   "execution_count": 33,
   "id": "4b905ed9",
   "metadata": {},
   "outputs": [
    {
     "data": {
      "text/plain": [
       "float"
      ]
     },
     "execution_count": 33,
     "metadata": {},
     "output_type": "execute_result"
    }
   ],
   "source": [
    "type(23.5)"
   ]
  },
  {
   "cell_type": "code",
   "execution_count": 32,
   "id": "81369cba",
   "metadata": {},
   "outputs": [
    {
     "name": "stdout",
     "output_type": "stream",
     "text": [
      "Digite seu valor:50\n",
      "Digite seu valor:20\n",
      "Sua soma é: 70\n"
     ]
    }
   ],
   "source": [
    "#conversação chamamos de cast\n",
    "def main():\n",
    "    a = int(input(\"Digite seu valor:\"));\n",
    "    b = int(input(\"Digite seu valor:\"));\n",
    "    print(\"Sua soma é:\",a+b);\n",
    "    \n",
    "main();"
   ]
  },
  {
   "cell_type": "code",
   "execution_count": 36,
   "id": "4e642e01",
   "metadata": {},
   "outputs": [
    {
     "name": "stdout",
     "output_type": "stream",
     "text": [
      "Digite seu valor:64.5\n",
      "Digite seu valor:4.5\n",
      "Sua soma é: 69.0\n"
     ]
    }
   ],
   "source": [
    "def main():\n",
    "    a = float(input(\"Digite seu valor:\"));\n",
    "    b = float(input(\"Digite seu valor:\"));\n",
    "    print(\"Sua soma é:\",a+b);\n",
    "    \n",
    "main();"
   ]
  },
  {
   "cell_type": "markdown",
   "id": "5df708c2",
   "metadata": {},
   "source": [
    "# Exercicios\n"
   ]
  },
  {
   "cell_type": "code",
   "execution_count": 37,
   "id": "5798e82a",
   "metadata": {},
   "outputs": [
    {
     "name": "stdout",
     "output_type": "stream",
     "text": [
      "Digite seu valor:5.5\n",
      "Digite seu valor:4.5\n",
      "Sua soma é: 24.75\n"
     ]
    }
   ],
   "source": [
    "def main():\n",
    "    a = float(input(\"Digite seu valor:\"));\n",
    "    b = float(input(\"Digite seu valor:\"));\n",
    "    print(\"Sua mult é:\",a*b);\n",
    "    \n",
    "main();"
   ]
  },
  {
   "cell_type": "code",
   "execution_count": 40,
   "id": "93a7ba18",
   "metadata": {},
   "outputs": [
    {
     "name": "stdout",
     "output_type": "stream",
     "text": [
      "Digite seu valor:5\n",
      "Digite seu valor:2\n",
      "Sua mult é: 2.5\n"
     ]
    }
   ],
   "source": [
    "def main():\n",
    "    a = float(input(\"Digite seu valor:\"));\n",
    "    b = float(input(\"Digite seu valor:\"));\n",
    "    print(f\"Sua mult é: {a/b}\");\n",
    "    \n",
    "main();"
   ]
  },
  {
   "cell_type": "markdown",
   "id": "721daa2f",
   "metadata": {},
   "source": [
    "# Formatação "
   ]
  },
  {
   "cell_type": "markdown",
   "id": "bc902304",
   "metadata": {},
   "source": [
    "\"String original\".fomart(var)\n"
   ]
  },
  {
   "cell_type": "code",
   "execution_count": 41,
   "id": "e5928c8a",
   "metadata": {},
   "outputs": [],
   "source": [
    "numero =10;\n",
    "letra=\"a\";\n",
    "palavra=\"tamo juunto\";"
   ]
  },
  {
   "cell_type": "code",
   "execution_count": 43,
   "id": "8793fa1a",
   "metadata": {},
   "outputs": [
    {
     "data": {
      "text/plain": [
       "'meu numero 10, minha letra a, minha palavra tamo juunto '"
      ]
     },
     "execution_count": 43,
     "metadata": {},
     "output_type": "execute_result"
    }
   ],
   "source": [
    "\"meu numero {}, minha letra {}, minha palavra {} \".format(numero,letra,palavra)"
   ]
  },
  {
   "cell_type": "markdown",
   "id": "54de289f",
   "metadata": {},
   "source": [
    "F antes das aspas\n"
   ]
  },
  {
   "cell_type": "code",
   "execution_count": 44,
   "id": "5387db31",
   "metadata": {},
   "outputs": [
    {
     "name": "stdout",
     "output_type": "stream",
     "text": [
      "meu numero 10, minha letra a, minha palavra tamo juunto\n"
     ]
    }
   ],
   "source": [
    "print(f\"meu numero {numero}, minha letra {letra}, minha palavra {palavra}\")"
   ]
  },
  {
   "cell_type": "code",
   "execution_count": 3,
   "id": "e481f0ef",
   "metadata": {},
   "outputs": [
    {
     "name": "stdout",
     "output_type": "stream",
     "text": [
      "3\n",
      "2.6\n"
     ]
    }
   ],
   "source": [
    "numero =2.57;\n",
    "print(\"{:.0f}\".format(numero))\n",
    "print(f\"{numero:.1f}\")"
   ]
  },
  {
   "cell_type": "code",
   "execution_count": 50,
   "id": "d0caee76",
   "metadata": {},
   "outputs": [
    {
     "name": "stdout",
     "output_type": "stream",
     "text": [
      "3.333\n",
      "3.33\n"
     ]
    }
   ],
   "source": [
    "print(\"{:.3f}\".format(10/3))\n",
    "print(f\"{10/3:.2f}\")"
   ]
  }
 ],
 "metadata": {
  "kernelspec": {
   "display_name": "Python 3 (ipykernel)",
   "language": "python",
   "name": "python3"
  },
  "language_info": {
   "codemirror_mode": {
    "name": "ipython",
    "version": 3
   },
   "file_extension": ".py",
   "mimetype": "text/x-python",
   "name": "python",
   "nbconvert_exporter": "python",
   "pygments_lexer": "ipython3",
   "version": "3.9.13"
  }
 },
 "nbformat": 4,
 "nbformat_minor": 5
}
